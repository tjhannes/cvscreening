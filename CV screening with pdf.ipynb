{
 "cells": [
  {
   "cell_type": "markdown",
   "metadata": {},
   "source": [
    "# CV Screening\n",
    "\n",
    "We are loading CVs in PDF and Word and comparing them with the job requirements fetched from a database."
   ]
  },
  {
   "cell_type": "code",
   "execution_count": 2,
   "metadata": {},
   "outputs": [
    {
     "name": "stdout",
     "output_type": "stream",
     "text": [
      "          Requirement    Minimum\n",
      "0  Höchster Abschluss   Bachelor\n",
      "1       Abschlussnote        gut\n",
      "2         Universität           \n",
      "3    Arbeitserfahrung  Praktikum\n",
      "4  Progammiersprachen     Python\n"
     ]
    }
   ],
   "source": [
    "import PyPDF2\n",
    "import re # regular expression\n",
    "import pandas as pd\n",
    "\n",
    "pdf_text = []\n",
    "pdf = []\n",
    "\n",
    "# with statements takes care of open and close the file\n",
    "with open('pdf/Lebenslauf_Wirtschaftsmathematik_Bachelor.pdf', mode='rb') as pdffile:\n",
    "    pdf_reader = PyPDF2.PdfFileReader(pdffile)\n",
    "    for p in range(pdf_reader.numPages):\n",
    "        page = pdf_reader.getPage(p)\n",
    "        pdf_text.append(page.extractText())\n",
    "\n",
    "pdf = pdf_text[0]+pdf_text[1]        \n",
    "#print(pdf_text[0])\n",
    "\n",
    "\n",
    "\n",
    "def fetchJobRequirements(jobtitle):\n",
    "    # mocking of database query result\n",
    "    if jobtitle == 'Data Scientist':\n",
    "        requirements = {'Requirement':['Höchster Abschluss', 'Abschlussnote', 'Universität', 'Arbeitserfahrung', 'Progammiersprachen'],\n",
    "                       'Minimum':['Bachelor', 'gut', '', 'Praktikum', 'Python']}\n",
    "        return pd.DataFrame(requirements)\n",
    "\n",
    "job_requirements = fetchJobRequirements('Data Scientist')\n",
    "print(job_requirements)\n"
   ]
  },
  {
   "cell_type": "markdown",
   "metadata": {},
   "source": [
    "Now we are extracting some information to create structured data\n",
    "- Email\n",
    "- ..."
   ]
  },
  {
   "cell_type": "code",
   "execution_count": 3,
   "metadata": {},
   "outputs": [
    {
     "name": "stdout",
     "output_type": "stream",
     "text": [
      "jacob.toll@mustermann.de\n",
      "noreply@gmail.com\n"
     ]
    }
   ],
   "source": [
    "sampleemail = 'Please reach out under jacob.toll@mustermann.de or noreply@gmail.com Thanks'\n",
    "\n",
    "# w refers to all numbers and letters; + refers to one or more\n",
    "email_pattern_simple = '[\\w]+@[\\w]+[\\W]+[\\w]+'\n",
    "email_pattern = '[a-zA-Z0-9_.+-]+@[a-zA-Z0-9-]+\\.[a-zA-Z0-9-.]+'\n",
    "emails = re.findall(email_pattern,sampleemail)\n",
    "for email in emails:\n",
    "    print(email)\n"
   ]
  },
  {
   "cell_type": "markdown",
   "metadata": {},
   "source": [
    "## Classical Statistical methods"
   ]
  },
  {
   "cell_type": "code",
   "execution_count": 10,
   "metadata": {},
   "outputs": [
    {
     "name": "stdout",
     "output_type": "stream",
     "text": [
      "From the requirements list (['Bachelor', 'gut', '', 'Praktikum', 'Python']) 2 matches were found in the CV.\n",
      "Score: 40.0/100\n"
     ]
    }
   ],
   "source": [
    "# without machine learning\n",
    "\n",
    "counter = 0\n",
    "\n",
    "for word in job_requirements.Minimum.tolist():\n",
    "    if word in pdf:\n",
    "        counter += 1\n",
    "        \n",
    "print(f'From the requirements list ({job_requirements.Minimum.tolist()}) {counter} matches were found in the CV.')\n",
    "print(f'Score: {counter/len(job_requirements.Minimum)*100}/100')"
   ]
  },
  {
   "cell_type": "markdown",
   "metadata": {},
   "source": [
    "## Natural Language Processing"
   ]
  },
  {
   "cell_type": "code",
   "execution_count": null,
   "metadata": {},
   "outputs": [],
   "source": [
    "# LSA"
   ]
  }
 ],
 "metadata": {
  "kernelspec": {
   "display_name": "Python 3",
   "language": "python",
   "name": "python3"
  },
  "language_info": {
   "codemirror_mode": {
    "name": "ipython",
    "version": 3
   },
   "file_extension": ".py",
   "mimetype": "text/x-python",
   "name": "python",
   "nbconvert_exporter": "python",
   "pygments_lexer": "ipython3",
   "version": "3.7.3"
  }
 },
 "nbformat": 4,
 "nbformat_minor": 2
}
